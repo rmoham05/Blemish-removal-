{
 "cells": [
  {
   "cell_type": "code",
   "execution_count": 2,
   "metadata": {},
   "outputs": [
    {
     "ename": "KeyboardInterrupt",
     "evalue": "",
     "output_type": "error",
     "traceback": [
      "\u001b[0;31m---------------------------------------------------------------------------\u001b[0m",
      "\u001b[0;31mKeyboardInterrupt\u001b[0m                         Traceback (most recent call last)",
      "\u001b[0;32m<ipython-input-2-0835ce4785ae>\u001b[0m in \u001b[0;36m<module>\u001b[0;34m\u001b[0m\n\u001b[1;32m     69\u001b[0m \u001b[0;32mwhile\u001b[0m \u001b[0mk\u001b[0m \u001b[0;34m!=\u001b[0m \u001b[0;36m27\u001b[0m\u001b[0;34m:\u001b[0m\u001b[0;34m\u001b[0m\u001b[0;34m\u001b[0m\u001b[0m\n\u001b[1;32m     70\u001b[0m     \u001b[0mcv2\u001b[0m\u001b[0;34m.\u001b[0m\u001b[0mimshow\u001b[0m\u001b[0;34m(\u001b[0m\u001b[0;34m\"MakeUp\"\u001b[0m\u001b[0;34m,\u001b[0m \u001b[0mimage\u001b[0m\u001b[0;34m)\u001b[0m\u001b[0;34m\u001b[0m\u001b[0;34m\u001b[0m\u001b[0m\n\u001b[0;32m---> 71\u001b[0;31m     \u001b[0mk\u001b[0m \u001b[0;34m=\u001b[0m \u001b[0mcv2\u001b[0m\u001b[0;34m.\u001b[0m\u001b[0mwaitKey\u001b[0m\u001b[0;34m(\u001b[0m\u001b[0;36m20\u001b[0m\u001b[0;34m)\u001b[0m\u001b[0;34m\u001b[0m\u001b[0;34m\u001b[0m\u001b[0m\n\u001b[0m\u001b[1;32m     72\u001b[0m \u001b[0;34m\u001b[0m\u001b[0m\n\u001b[1;32m     73\u001b[0m \u001b[0mcv2\u001b[0m\u001b[0;34m.\u001b[0m\u001b[0mdestroyAllWindows\u001b[0m\u001b[0;34m(\u001b[0m\u001b[0;34m)\u001b[0m\u001b[0;34m\u001b[0m\u001b[0;34m\u001b[0m\u001b[0m\n",
      "\u001b[0;31mKeyboardInterrupt\u001b[0m: "
     ]
    }
   ],
   "source": [
    "# Enter your code here\n",
    "import cv2\n",
    "import matplotlib.pyplot as plt\n",
    "import numpy as np\n",
    "import matplotlib\n",
    "\n",
    "\n",
    "def Variance_Measure(patch):\n",
    "    x = cv2.Scharr(patch, -1, 1, 0)\n",
    "    y = cv2.Scharr(patch, -1, 0, 1)\n",
    "    \n",
    "    variance = np.abs(x) + np.abs(y)\n",
    "\n",
    "    return variance\n",
    "\n",
    "\n",
    "def display_window(fragment, windo_name, windo_title=None):\n",
    "    size = (600, 600)\n",
    "    New_Fragment = cv2.resize(fragment, size)\n",
    "    if windo_title != None:\n",
    "        cv2.setWindowTitle(windo_name, windo_title)\n",
    "    cv2.imshow(windo_title, New_Fragment)\n",
    "\n",
    "def RIO(xy, image):\n",
    "    patch = image[xy[1] - 13:xy[1] + 13, xy[0] - 13:xy[0] + 13]\n",
    "    return patch\n",
    "\n",
    "def ChosenNeighbour(xy, values, image):\n",
    "    bestV = 0\n",
    "    best_xy = None\n",
    "    \n",
    "    neighbour = np.array([(-1, -1), (-1, 0), (-1, 1), (0, -1), (0, 1), (1, -1), (1, 0), (1, 1)]) * 30\n",
    "    \n",
    "    for move in neighbour:\n",
    "        xy_m = xy + move\n",
    "        if xy_m[xy_m<0].sum() < 0:\n",
    "            continue\n",
    "        patch = RIO(xy_m, values)\n",
    "        variance = 1/Variance_Measure(patch).sum()\n",
    "        if variance > bestV:\n",
    "            bestV = variance\n",
    "            best_xy = xy_m\n",
    "\n",
    "        return RIO(best_xy, values), RIO(best_xy, image)\n",
    "\n",
    "def Mouse_Act(action, x, y, flags, image):\n",
    "    \n",
    "    if action == cv2.EVENT_LBUTTONDOWN or action == cv2.EVENT_RBUTTONDOWN:\n",
    "        \n",
    "        HSV = cv2.cvtColor(image, cv2.COLOR_BGR2HSV)\n",
    "        \n",
    "        gray= cv2.cvtColor(image, cv2.COLOR_BGR2GRAY)\n",
    "\n",
    "        (grayPatch, colorPatch) = ChosenNeighbour((x, y), gray, image)\n",
    "        \n",
    "        src_mask = np.ones_like(grayPatch) * 255\n",
    "        cv2.seamlessClone(\n",
    "            colorPatch, image, src_mask, (x, y), cv2.NORMAL_CLONE, blend=image)\n",
    "\n",
    "    \n",
    "\n",
    "image = cv2.imread(\"blemish.png\", 1)\n",
    "\n",
    "cv2.namedWindow(\"MakeUp\")\n",
    "\n",
    "cv2.setMouseCallback(\"MakeUp\", Mouse_Act, image)\n",
    "\n",
    "k = 0\n",
    "while k != 27:\n",
    "    cv2.imshow(\"MakeUp\", image)\n",
    "    k = cv2.waitKey(20)\n",
    "\n",
    "cv2.destroyAllWindows()"
   ]
  },
  {
   "cell_type": "code",
   "execution_count": null,
   "metadata": {},
   "outputs": [],
   "source": []
  },
  {
   "cell_type": "code",
   "execution_count": null,
   "metadata": {},
   "outputs": [],
   "source": []
  }
 ],
 "metadata": {
  "kernelspec": {
   "display_name": "Python 3",
   "language": "python",
   "name": "python3"
  },
  "language_info": {
   "codemirror_mode": {
    "name": "ipython",
    "version": 3
   },
   "file_extension": ".py",
   "mimetype": "text/x-python",
   "name": "python",
   "nbconvert_exporter": "python",
   "pygments_lexer": "ipython3",
   "version": "3.7.4"
  }
 },
 "nbformat": 4,
 "nbformat_minor": 2
}
